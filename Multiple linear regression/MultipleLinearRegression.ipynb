{
 "cells": [
  {
   "cell_type": "markdown",
   "id": "cae7d114-0d5f-41f3-bf2b-0dc0b59e3392",
   "metadata": {},
   "source": [
    "# **MULTIPLE LINEAR REGRESSION**"
   ]
  },
  {
   "cell_type": "code",
   "execution_count": 1,
   "id": "9a9f1774-31b0-40be-909e-e5fe2bbefa3c",
   "metadata": {},
   "outputs": [],
   "source": [
    "import numpy as np\n",
    "import pandas as pd\n",
    "import matplotlib.pyplot as plt\n",
    "import seaborn as sns"
   ]
  },
  {
   "cell_type": "code",
   "execution_count": 2,
   "id": "f76d2d19-f6f8-4528-af56-5a24663f5b17",
   "metadata": {},
   "outputs": [],
   "source": [
    "df = pd.read_csv('Startups.csv')"
   ]
  },
  {
   "cell_type": "code",
   "execution_count": 3,
   "id": "1e0188f3-975d-4551-bad5-0d77b644f0f5",
   "metadata": {},
   "outputs": [
    {
     "data": {
      "text/html": [
       "<div>\n",
       "<style scoped>\n",
       "    .dataframe tbody tr th:only-of-type {\n",
       "        vertical-align: middle;\n",
       "    }\n",
       "\n",
       "    .dataframe tbody tr th {\n",
       "        vertical-align: top;\n",
       "    }\n",
       "\n",
       "    .dataframe thead th {\n",
       "        text-align: right;\n",
       "    }\n",
       "</style>\n",
       "<table border=\"1\" class=\"dataframe\">\n",
       "  <thead>\n",
       "    <tr style=\"text-align: right;\">\n",
       "      <th></th>\n",
       "      <th>R&amp;D Spend</th>\n",
       "      <th>Administration</th>\n",
       "      <th>Marketing Spend</th>\n",
       "      <th>State</th>\n",
       "      <th>Profit</th>\n",
       "    </tr>\n",
       "  </thead>\n",
       "  <tbody>\n",
       "    <tr>\n",
       "      <th>0</th>\n",
       "      <td>165349.20</td>\n",
       "      <td>136897.80</td>\n",
       "      <td>471784.10</td>\n",
       "      <td>New York</td>\n",
       "      <td>192261.83</td>\n",
       "    </tr>\n",
       "    <tr>\n",
       "      <th>1</th>\n",
       "      <td>162597.70</td>\n",
       "      <td>151377.59</td>\n",
       "      <td>443898.53</td>\n",
       "      <td>California</td>\n",
       "      <td>191792.06</td>\n",
       "    </tr>\n",
       "    <tr>\n",
       "      <th>2</th>\n",
       "      <td>153441.51</td>\n",
       "      <td>101145.55</td>\n",
       "      <td>407934.54</td>\n",
       "      <td>Florida</td>\n",
       "      <td>191050.39</td>\n",
       "    </tr>\n",
       "    <tr>\n",
       "      <th>3</th>\n",
       "      <td>144372.41</td>\n",
       "      <td>118671.85</td>\n",
       "      <td>383199.62</td>\n",
       "      <td>New York</td>\n",
       "      <td>182901.99</td>\n",
       "    </tr>\n",
       "    <tr>\n",
       "      <th>4</th>\n",
       "      <td>142107.34</td>\n",
       "      <td>91391.77</td>\n",
       "      <td>366168.42</td>\n",
       "      <td>Florida</td>\n",
       "      <td>166187.94</td>\n",
       "    </tr>\n",
       "  </tbody>\n",
       "</table>\n",
       "</div>"
      ],
      "text/plain": [
       "   R&D Spend  Administration  Marketing Spend       State     Profit\n",
       "0  165349.20       136897.80        471784.10    New York  192261.83\n",
       "1  162597.70       151377.59        443898.53  California  191792.06\n",
       "2  153441.51       101145.55        407934.54     Florida  191050.39\n",
       "3  144372.41       118671.85        383199.62    New York  182901.99\n",
       "4  142107.34        91391.77        366168.42     Florida  166187.94"
      ]
     },
     "execution_count": 3,
     "metadata": {},
     "output_type": "execute_result"
    }
   ],
   "source": [
    "df.head()"
   ]
  },
  {
   "cell_type": "markdown",
   "id": "6eb53ea6-6ced-4c81-881d-f38d35bcf683",
   "metadata": {},
   "source": [
    "### **DATA ANALYSIS**"
   ]
  },
  {
   "cell_type": "code",
   "execution_count": 4,
   "id": "05dc474b-a451-4f90-8bf2-34bec74bd640",
   "metadata": {},
   "outputs": [
    {
     "data": {
      "text/plain": [
       "R&D Spend          0\n",
       "Administration     0\n",
       "Marketing Spend    0\n",
       "State              0\n",
       "Profit             0\n",
       "dtype: int64"
      ]
     },
     "execution_count": 4,
     "metadata": {},
     "output_type": "execute_result"
    }
   ],
   "source": [
    "df.isnull().sum()"
   ]
  },
  {
   "cell_type": "code",
   "execution_count": 5,
   "id": "96883f37-6694-400c-a01c-bb843f5c710d",
   "metadata": {},
   "outputs": [
    {
     "data": {
      "text/plain": [
       "(50, 5)"
      ]
     },
     "execution_count": 5,
     "metadata": {},
     "output_type": "execute_result"
    }
   ],
   "source": [
    "df.shape"
   ]
  },
  {
   "cell_type": "code",
   "execution_count": 6,
   "id": "0a3d6554-bf9b-4759-9ad5-7930755a8b1f",
   "metadata": {},
   "outputs": [
    {
     "data": {
      "text/plain": [
       "New York      17\n",
       "California    17\n",
       "Florida       16\n",
       "Name: State, dtype: int64"
      ]
     },
     "execution_count": 6,
     "metadata": {},
     "output_type": "execute_result"
    }
   ],
   "source": [
    "df['State'].value_counts()"
   ]
  },
  {
   "cell_type": "code",
   "execution_count": 7,
   "id": "76f8e0a9-6df2-4799-9de7-16476c540a17",
   "metadata": {},
   "outputs": [],
   "source": [
    "dfc = df.replace(to_replace=['California', 'New York', 'Florida'], value=[1, 2,3])"
   ]
  },
  {
   "cell_type": "code",
   "execution_count": 8,
   "id": "005fbda0-d0fd-4a89-aabc-9a36d8d3b7bd",
   "metadata": {},
   "outputs": [
    {
     "data": {
      "text/html": [
       "<div>\n",
       "<style scoped>\n",
       "    .dataframe tbody tr th:only-of-type {\n",
       "        vertical-align: middle;\n",
       "    }\n",
       "\n",
       "    .dataframe tbody tr th {\n",
       "        vertical-align: top;\n",
       "    }\n",
       "\n",
       "    .dataframe thead th {\n",
       "        text-align: right;\n",
       "    }\n",
       "</style>\n",
       "<table border=\"1\" class=\"dataframe\">\n",
       "  <thead>\n",
       "    <tr style=\"text-align: right;\">\n",
       "      <th></th>\n",
       "      <th>R&amp;D Spend</th>\n",
       "      <th>Administration</th>\n",
       "      <th>Marketing Spend</th>\n",
       "      <th>State</th>\n",
       "      <th>Profit</th>\n",
       "    </tr>\n",
       "  </thead>\n",
       "  <tbody>\n",
       "    <tr>\n",
       "      <th>0</th>\n",
       "      <td>165349.20</td>\n",
       "      <td>136897.80</td>\n",
       "      <td>471784.10</td>\n",
       "      <td>2</td>\n",
       "      <td>192261.83</td>\n",
       "    </tr>\n",
       "    <tr>\n",
       "      <th>1</th>\n",
       "      <td>162597.70</td>\n",
       "      <td>151377.59</td>\n",
       "      <td>443898.53</td>\n",
       "      <td>1</td>\n",
       "      <td>191792.06</td>\n",
       "    </tr>\n",
       "    <tr>\n",
       "      <th>2</th>\n",
       "      <td>153441.51</td>\n",
       "      <td>101145.55</td>\n",
       "      <td>407934.54</td>\n",
       "      <td>3</td>\n",
       "      <td>191050.39</td>\n",
       "    </tr>\n",
       "    <tr>\n",
       "      <th>3</th>\n",
       "      <td>144372.41</td>\n",
       "      <td>118671.85</td>\n",
       "      <td>383199.62</td>\n",
       "      <td>2</td>\n",
       "      <td>182901.99</td>\n",
       "    </tr>\n",
       "    <tr>\n",
       "      <th>4</th>\n",
       "      <td>142107.34</td>\n",
       "      <td>91391.77</td>\n",
       "      <td>366168.42</td>\n",
       "      <td>3</td>\n",
       "      <td>166187.94</td>\n",
       "    </tr>\n",
       "  </tbody>\n",
       "</table>\n",
       "</div>"
      ],
      "text/plain": [
       "   R&D Spend  Administration  Marketing Spend  State     Profit\n",
       "0  165349.20       136897.80        471784.10      2  192261.83\n",
       "1  162597.70       151377.59        443898.53      1  191792.06\n",
       "2  153441.51       101145.55        407934.54      3  191050.39\n",
       "3  144372.41       118671.85        383199.62      2  182901.99\n",
       "4  142107.34        91391.77        366168.42      3  166187.94"
      ]
     },
     "execution_count": 8,
     "metadata": {},
     "output_type": "execute_result"
    }
   ],
   "source": [
    "dfc.head()"
   ]
  },
  {
   "cell_type": "markdown",
   "id": "47b290cc-83f9-4a59-96a7-d0e4866296cc",
   "metadata": {},
   "source": [
    "### **FEATURE SELECTION**"
   ]
  },
  {
   "cell_type": "code",
   "execution_count": 9,
   "id": "772daddd-7177-435d-86b6-40b23dc04088",
   "metadata": {},
   "outputs": [
    {
     "data": {
      "text/html": [
       "<div>\n",
       "<style scoped>\n",
       "    .dataframe tbody tr th:only-of-type {\n",
       "        vertical-align: middle;\n",
       "    }\n",
       "\n",
       "    .dataframe tbody tr th {\n",
       "        vertical-align: top;\n",
       "    }\n",
       "\n",
       "    .dataframe thead th {\n",
       "        text-align: right;\n",
       "    }\n",
       "</style>\n",
       "<table border=\"1\" class=\"dataframe\">\n",
       "  <thead>\n",
       "    <tr style=\"text-align: right;\">\n",
       "      <th></th>\n",
       "      <th>R&amp;D Spend</th>\n",
       "      <th>Administration</th>\n",
       "      <th>Marketing Spend</th>\n",
       "      <th>State</th>\n",
       "      <th>Profit</th>\n",
       "    </tr>\n",
       "  </thead>\n",
       "  <tbody>\n",
       "    <tr>\n",
       "      <th>count</th>\n",
       "      <td>50.000000</td>\n",
       "      <td>50.000000</td>\n",
       "      <td>50.000000</td>\n",
       "      <td>50.000000</td>\n",
       "      <td>50.000000</td>\n",
       "    </tr>\n",
       "    <tr>\n",
       "      <th>mean</th>\n",
       "      <td>73721.615600</td>\n",
       "      <td>121344.639600</td>\n",
       "      <td>211025.097800</td>\n",
       "      <td>1.980000</td>\n",
       "      <td>112012.639200</td>\n",
       "    </tr>\n",
       "    <tr>\n",
       "      <th>std</th>\n",
       "      <td>45902.256482</td>\n",
       "      <td>28017.802755</td>\n",
       "      <td>122290.310726</td>\n",
       "      <td>0.820403</td>\n",
       "      <td>40306.180338</td>\n",
       "    </tr>\n",
       "    <tr>\n",
       "      <th>min</th>\n",
       "      <td>0.000000</td>\n",
       "      <td>51283.140000</td>\n",
       "      <td>0.000000</td>\n",
       "      <td>1.000000</td>\n",
       "      <td>14681.400000</td>\n",
       "    </tr>\n",
       "    <tr>\n",
       "      <th>25%</th>\n",
       "      <td>39936.370000</td>\n",
       "      <td>103730.875000</td>\n",
       "      <td>129300.132500</td>\n",
       "      <td>1.000000</td>\n",
       "      <td>90138.902500</td>\n",
       "    </tr>\n",
       "    <tr>\n",
       "      <th>50%</th>\n",
       "      <td>73051.080000</td>\n",
       "      <td>122699.795000</td>\n",
       "      <td>212716.240000</td>\n",
       "      <td>2.000000</td>\n",
       "      <td>107978.190000</td>\n",
       "    </tr>\n",
       "    <tr>\n",
       "      <th>75%</th>\n",
       "      <td>101602.800000</td>\n",
       "      <td>144842.180000</td>\n",
       "      <td>299469.085000</td>\n",
       "      <td>3.000000</td>\n",
       "      <td>139765.977500</td>\n",
       "    </tr>\n",
       "    <tr>\n",
       "      <th>max</th>\n",
       "      <td>165349.200000</td>\n",
       "      <td>182645.560000</td>\n",
       "      <td>471784.100000</td>\n",
       "      <td>3.000000</td>\n",
       "      <td>192261.830000</td>\n",
       "    </tr>\n",
       "  </tbody>\n",
       "</table>\n",
       "</div>"
      ],
      "text/plain": [
       "           R&D Spend  Administration  Marketing Spend      State  \\\n",
       "count      50.000000       50.000000        50.000000  50.000000   \n",
       "mean    73721.615600   121344.639600    211025.097800   1.980000   \n",
       "std     45902.256482    28017.802755    122290.310726   0.820403   \n",
       "min         0.000000    51283.140000         0.000000   1.000000   \n",
       "25%     39936.370000   103730.875000    129300.132500   1.000000   \n",
       "50%     73051.080000   122699.795000    212716.240000   2.000000   \n",
       "75%    101602.800000   144842.180000    299469.085000   3.000000   \n",
       "max    165349.200000   182645.560000    471784.100000   3.000000   \n",
       "\n",
       "              Profit  \n",
       "count      50.000000  \n",
       "mean   112012.639200  \n",
       "std     40306.180338  \n",
       "min     14681.400000  \n",
       "25%     90138.902500  \n",
       "50%    107978.190000  \n",
       "75%    139765.977500  \n",
       "max    192261.830000  "
      ]
     },
     "execution_count": 9,
     "metadata": {},
     "output_type": "execute_result"
    }
   ],
   "source": [
    "dfc.describe()"
   ]
  },
  {
   "cell_type": "code",
   "execution_count": 10,
   "id": "0e3cca6f-1bc0-4207-a402-9b8f95a21ea8",
   "metadata": {},
   "outputs": [
    {
     "data": {
      "text/html": [
       "<div>\n",
       "<style scoped>\n",
       "    .dataframe tbody tr th:only-of-type {\n",
       "        vertical-align: middle;\n",
       "    }\n",
       "\n",
       "    .dataframe tbody tr th {\n",
       "        vertical-align: top;\n",
       "    }\n",
       "\n",
       "    .dataframe thead th {\n",
       "        text-align: right;\n",
       "    }\n",
       "</style>\n",
       "<table border=\"1\" class=\"dataframe\">\n",
       "  <thead>\n",
       "    <tr style=\"text-align: right;\">\n",
       "      <th></th>\n",
       "      <th>R&amp;D Spend</th>\n",
       "      <th>Administration</th>\n",
       "      <th>Marketing Spend</th>\n",
       "      <th>State</th>\n",
       "      <th>Profit</th>\n",
       "    </tr>\n",
       "  </thead>\n",
       "  <tbody>\n",
       "    <tr>\n",
       "      <th>R&amp;D Spend</th>\n",
       "      <td>1.000000</td>\n",
       "      <td>0.241955</td>\n",
       "      <td>0.724248</td>\n",
       "      <td>0.144221</td>\n",
       "      <td>0.972900</td>\n",
       "    </tr>\n",
       "    <tr>\n",
       "      <th>Administration</th>\n",
       "      <td>0.241955</td>\n",
       "      <td>1.000000</td>\n",
       "      <td>-0.032154</td>\n",
       "      <td>0.015055</td>\n",
       "      <td>0.200717</td>\n",
       "    </tr>\n",
       "    <tr>\n",
       "      <th>Marketing Spend</th>\n",
       "      <td>0.724248</td>\n",
       "      <td>-0.032154</td>\n",
       "      <td>1.000000</td>\n",
       "      <td>0.216639</td>\n",
       "      <td>0.747766</td>\n",
       "    </tr>\n",
       "    <tr>\n",
       "      <th>State</th>\n",
       "      <td>0.144221</td>\n",
       "      <td>0.015055</td>\n",
       "      <td>0.216639</td>\n",
       "      <td>1.000000</td>\n",
       "      <td>0.151829</td>\n",
       "    </tr>\n",
       "    <tr>\n",
       "      <th>Profit</th>\n",
       "      <td>0.972900</td>\n",
       "      <td>0.200717</td>\n",
       "      <td>0.747766</td>\n",
       "      <td>0.151829</td>\n",
       "      <td>1.000000</td>\n",
       "    </tr>\n",
       "  </tbody>\n",
       "</table>\n",
       "</div>"
      ],
      "text/plain": [
       "                 R&D Spend  Administration  Marketing Spend     State  \\\n",
       "R&D Spend         1.000000        0.241955         0.724248  0.144221   \n",
       "Administration    0.241955        1.000000        -0.032154  0.015055   \n",
       "Marketing Spend   0.724248       -0.032154         1.000000  0.216639   \n",
       "State             0.144221        0.015055         0.216639  1.000000   \n",
       "Profit            0.972900        0.200717         0.747766  0.151829   \n",
       "\n",
       "                   Profit  \n",
       "R&D Spend        0.972900  \n",
       "Administration   0.200717  \n",
       "Marketing Spend  0.747766  \n",
       "State            0.151829  \n",
       "Profit           1.000000  "
      ]
     },
     "execution_count": 10,
     "metadata": {},
     "output_type": "execute_result"
    }
   ],
   "source": [
    "dfc.corr()"
   ]
  },
  {
   "cell_type": "code",
   "execution_count": 11,
   "id": "ebbdb5ff-78ec-427d-b20a-c7755225b6fa",
   "metadata": {},
   "outputs": [
    {
     "data": {
      "image/png": "[encoded data removed]",
      "text/plain": [
       "<Figure size 1152x288 with 4 Axes>"
      ]
     },
     "metadata": {
      "needs_background": "light"
     },
     "output_type": "display_data"
    }
   ],
   "source": [
    "sns.pairplot(dfc, x_vars=['R&D Spend', 'Administration','Marketing Spend','State'], y_vars='Profit', height=4, aspect=1, kind='scatter')\n",
    "plt.show()"
   ]
  },
  {
   "cell_type": "code",
   "execution_count": 12,
   "id": "de4634a9-7670-4d7a-812f-464c3332d732",
   "metadata": {},
   "outputs": [],
   "source": [
    "features = ['R&D Spend', 'Administration','Marketing Spend']\n",
    "target = 'Profit'\n",
    "\n",
    "X = dfc[features].values.reshape(-1, len(features))\n",
    "y = dfc[target].values"
   ]
  },
  {
   "cell_type": "markdown",
   "id": "ea28b880-5ccd-40d1-bac6-ce42612bf2d3",
   "metadata": {},
   "source": [
    "### **DATA SPLITTING**"
   ]
  },
  {
   "cell_type": "code",
   "execution_count": 13,
   "id": "fdbb0604-ea20-4b7d-881d-14eb56fba23f",
   "metadata": {},
   "outputs": [],
   "source": [
    "from sklearn.model_selection import train_test_split\n",
    "X_train, X_test, Y_train, Y_test = train_test_split(X, y, train_size = 0.8, test_size = 0.2)"
   ]
  },
  {
   "cell_type": "code",
   "execution_count": 15,
   "id": "5c02838b-3fb9-49c0-be96-5aab99e52f79",
   "metadata": {},
   "outputs": [],
   "source": [
    "#from sklearn.preprocessing import StandardScaler"
   ]
  },
  {
   "cell_type": "code",
   "execution_count": 16,
   "id": "ba22c0c0-586c-458b-8a74-6b76f88fa046",
   "metadata": {},
   "outputs": [],
   "source": [
    "#sc = StandardScaler()"
   ]
  },
  {
   "cell_type": "code",
   "execution_count": 17,
   "id": "265dc672-8bda-4e06-a1c5-e3a808ca087c",
   "metadata": {},
   "outputs": [],
   "source": [
    "#X_train = sc.fit_transform(X_train)\n",
    "#X_test = sc.fit_transform(X_test)"
   ]
  },
  {
   "cell_type": "code",
   "execution_count": 14,
   "id": "db6cc486-3178-468f-aa92-8919f15760b5",
   "metadata": {},
   "outputs": [
    {
     "data": {
      "text/plain": [
       "array([[     0.  , 116983.8 ,  45173.06],\n",
       "       [101913.08, 110594.11, 229160.95],\n",
       "       [   542.05,  51743.15,      0.  ],\n",
       "       [ 76253.86, 113867.3 , 298664.47],\n",
       "       [ 61994.48, 115641.28,  91131.24],\n",
       "       [ 27892.92,  84710.77, 164470.71],\n",
       "       [ 28663.76, 127056.21, 201126.82],\n",
       "       [ 77044.01,  99281.34, 140574.81],\n",
       "       [  1315.46, 115816.21, 297114.46],\n",
       "       [ 63408.86, 129219.61,  46085.25],\n",
       "       [ 64664.71, 139553.16, 137962.62],\n",
       "       [165349.2 , 136897.8 , 471784.1 ],\n",
       "       [ 55493.95, 103057.49, 214634.81],\n",
       "       [ 73994.56, 122782.75, 303319.26],\n",
       "       [153441.51, 101145.55, 407934.54],\n",
       "       [ 46014.02,  85047.44, 205517.64],\n",
       "       [ 44069.95,  51283.14, 197029.42],\n",
       "       [ 65605.48, 153032.06, 107138.38],\n",
       "       [ 72107.6 , 127864.55, 353183.81],\n",
       "       [ 67532.53, 105751.03, 304768.73],\n",
       "       [ 91749.16, 114175.79, 294919.57],\n",
       "       [ 22177.74, 154806.14,  28334.72],\n",
       "       [ 78013.11, 121597.55, 264346.06],\n",
       "       [  1000.23, 124153.04,   1903.93],\n",
       "       [120542.52, 148718.95, 311613.29],\n",
       "       [ 61136.38, 152701.92,  88218.23],\n",
       "       [162597.7 , 151377.59, 443898.53],\n",
       "       [ 46426.07, 157693.92, 210797.67],\n",
       "       [119943.24, 156547.42, 256512.92],\n",
       "       [123334.88, 108679.17, 304981.62],\n",
       "       [ 20229.59,  65947.93, 185265.1 ],\n",
       "       [ 38558.51,  82982.09, 174999.3 ],\n",
       "       [ 28754.33, 118546.05, 172795.67],\n",
       "       [134615.46, 147198.87, 127716.82],\n",
       "       [ 93863.75, 127320.38, 249839.44],\n",
       "       [ 86419.7 , 153514.11,      0.  ],\n",
       "       [144372.41, 118671.85, 383199.62],\n",
       "       [114523.61, 122616.84, 261776.23],\n",
       "       [ 94657.16, 145077.58, 282574.31],\n",
       "       [131876.9 ,  99814.71, 362861.36]])"
      ]
     },
     "execution_count": 14,
     "metadata": {},
     "output_type": "execute_result"
    }
   ],
   "source": [
    "X_train"
   ]
  },
  {
   "cell_type": "code",
   "execution_count": 15,
   "id": "ec135051-8e64-450a-b299-43ae594f8922",
   "metadata": {},
   "outputs": [
    {
     "data": {
      "text/plain": [
       "array([[142107.34,  91391.77, 366168.42],\n",
       "       [130298.13, 145530.06, 323876.68],\n",
       "       [     0.  , 135426.92,      0.  ],\n",
       "       [ 66051.52, 182645.56, 118148.2 ],\n",
       "       [ 91992.39, 135495.07, 252664.93],\n",
       "       [ 23640.93,  96189.63, 148001.11],\n",
       "       [ 78389.47, 153773.43, 299737.29],\n",
       "       [100671.96,  91790.61, 249744.55],\n",
       "       [ 15505.73, 127382.3 ,  35534.17],\n",
       "       [ 75328.87, 144135.98, 134050.07]])"
      ]
     },
     "execution_count": 15,
     "metadata": {},
     "output_type": "execute_result"
    }
   ],
   "source": [
    "X_test"
   ]
  },
  {
   "cell_type": "markdown",
   "id": "e49f7076-19e4-4637-9be4-61b79d995308",
   "metadata": {},
   "source": [
    "## **MODEL TRAINING AND PREDICTION**"
   ]
  },
  {
   "cell_type": "code",
   "execution_count": 16,
   "id": "71a927f2-6997-43b8-b68b-29acd9c6f753",
   "metadata": {},
   "outputs": [],
   "source": [
    "from sklearn.linear_model import LinearRegression\n",
    "from sklearn import metrics"
   ]
  },
  {
   "cell_type": "code",
   "execution_count": 17,
   "id": "45c13317-f9f7-44b1-bb82-9c49677ffae1",
   "metadata": {},
   "outputs": [
    {
     "data": {
      "text/plain": [
       "LinearRegression()"
      ]
     },
     "execution_count": 17,
     "metadata": {},
     "output_type": "execute_result"
    }
   ],
   "source": [
    "model = LinearRegression()  \n",
    "model.fit(X_train, Y_train)"
   ]
  },
  {
   "cell_type": "code",
   "execution_count": 18,
   "id": "3adf5648-6434-4382-ac87-253953ce0bb9",
   "metadata": {},
   "outputs": [],
   "source": [
    "Y_pred = model.predict(X_test)"
   ]
  },
  {
   "cell_type": "code",
   "execution_count": 24,
   "id": "f92a89d5-2f04-4161-a9f4-79e5d9cc0e26",
   "metadata": {},
   "outputs": [
    {
     "data": {
      "text/html": [
       "<div>\n",
       "<style scoped>\n",
       "    .dataframe tbody tr th:only-of-type {\n",
       "        vertical-align: middle;\n",
       "    }\n",
       "\n",
       "    .dataframe tbody tr th {\n",
       "        vertical-align: top;\n",
       "    }\n",
       "\n",
       "    .dataframe thead th {\n",
       "        text-align: right;\n",
       "    }\n",
       "</style>\n",
       "<table border=\"1\" class=\"dataframe\">\n",
       "  <thead>\n",
       "    <tr style=\"text-align: right;\">\n",
       "      <th></th>\n",
       "      <th>Actual</th>\n",
       "      <th>Predicted</th>\n",
       "    </tr>\n",
       "  </thead>\n",
       "  <tbody>\n",
       "    <tr>\n",
       "      <th>0</th>\n",
       "      <td>166187.94</td>\n",
       "      <td>172284.645633</td>\n",
       "    </tr>\n",
       "    <tr>\n",
       "      <th>1</th>\n",
       "      <td>155752.60</td>\n",
       "      <td>160571.596665</td>\n",
       "    </tr>\n",
       "    <tr>\n",
       "      <th>2</th>\n",
       "      <td>42559.73</td>\n",
       "      <td>45880.585213</td>\n",
       "    </tr>\n",
       "    <tr>\n",
       "      <th>3</th>\n",
       "      <td>103282.38</td>\n",
       "      <td>101903.484080</td>\n",
       "    </tr>\n",
       "    <tr>\n",
       "      <th>4</th>\n",
       "      <td>134307.35</td>\n",
       "      <td>127708.846788</td>\n",
       "    </tr>\n",
       "    <tr>\n",
       "      <th>5</th>\n",
       "      <td>71498.49</td>\n",
       "      <td>70115.228713</td>\n",
       "    </tr>\n",
       "    <tr>\n",
       "      <th>6</th>\n",
       "      <td>111313.02</td>\n",
       "      <td>117893.512017</td>\n",
       "    </tr>\n",
       "    <tr>\n",
       "      <th>7</th>\n",
       "      <td>144259.40</td>\n",
       "      <td>135339.892029</td>\n",
       "    </tr>\n",
       "    <tr>\n",
       "      <th>8</th>\n",
       "      <td>69758.98</td>\n",
       "      <td>59591.503941</td>\n",
       "    </tr>\n",
       "    <tr>\n",
       "      <th>9</th>\n",
       "      <td>105733.54</td>\n",
       "      <td>110506.474491</td>\n",
       "    </tr>\n",
       "  </tbody>\n",
       "</table>\n",
       "</div>"
      ],
      "text/plain": [
       "      Actual      Predicted\n",
       "0  166187.94  172284.645633\n",
       "1  155752.60  160571.596665\n",
       "2   42559.73   45880.585213\n",
       "3  103282.38  101903.484080\n",
       "4  134307.35  127708.846788\n",
       "5   71498.49   70115.228713\n",
       "6  111313.02  117893.512017\n",
       "7  144259.40  135339.892029\n",
       "8   69758.98   59591.503941\n",
       "9  105733.54  110506.474491"
      ]
     },
     "execution_count": 24,
     "metadata": {},
     "output_type": "execute_result"
    }
   ],
   "source": [
    "pd.DataFrame({'Actual': Y_test, 'Predicted': Y_pred})"
   ]
  },
  {
   "cell_type": "code",
   "execution_count": 20,
   "id": "c8690237-c547-4500-9570-092cb5ed12ce",
   "metadata": {},
   "outputs": [
    {
     "name": "stdout",
     "output_type": "stream",
     "text": [
      "Mean Absolute Error: 5403.762846767498\n",
      "Mean Squared Error: 36779460.88573866\n",
      "Root Mean Squared Error: 6064.607232602839\n"
     ]
    }
   ],
   "source": [
    "print('Mean Absolute Error:', metrics.mean_absolute_error(Y_test, Y_pred))  \n",
    "print('Mean Squared Error:', metrics.mean_squared_error(Y_test, Y_pred))  \n",
    "print('Root Mean Squared Error:', np.sqrt(metrics.mean_squared_error(Y_test, Y_pred)))"
   ]
  },
  {
   "cell_type": "markdown",
   "id": "f87d16c7-7bb9-4579-9835-5b780f57e3de",
   "metadata": {},
   "source": [
    "#### Score by taking only **R&D Spend** and **Marketing Spend** as feature as they have highest correlation with **Profit**."
   ]
  },
  {
   "cell_type": "code",
   "execution_count": 25,
   "id": "3d8766ac-de72-4ce7-a8e6-dea1f5a6780c",
   "metadata": {},
   "outputs": [
    {
     "data": {
      "text/plain": [
       "0.628451723809855"
      ]
     },
     "execution_count": 25,
     "metadata": {},
     "output_type": "execute_result"
    }
   ],
   "source": [
    "model.score(X_test, Y_test)"
   ]
  },
  {
   "cell_type": "markdown",
   "id": "756b33f8-39d2-437d-a192-e5a1a944290b",
   "metadata": {},
   "source": [
    "#### Score by not taking standardization of features`"
   ]
  },
  {
   "cell_type": "code",
   "execution_count": 25,
   "id": "80ececeb-ac80-47b2-9004-a2c1917bc51d",
   "metadata": {},
   "outputs": [
    {
     "data": {
      "text/plain": [
       "0.7988468062104331"
      ]
     },
     "execution_count": 25,
     "metadata": {},
     "output_type": "execute_result"
    }
   ],
   "source": [
    "model.score(X_test, Y_test)"
   ]
  },
  {
   "cell_type": "markdown",
   "id": "0e427134-1253-4c3a-b514-7f18a73f0d85",
   "metadata": {},
   "source": [
    "#### Score by taking all the features"
   ]
  },
  {
   "cell_type": "code",
   "execution_count": 34,
   "id": "84da04a1-74f8-4d0a-ab40-db7c196ab17b",
   "metadata": {},
   "outputs": [
    {
     "data": {
      "text/plain": [
       "0.8306475962577643"
      ]
     },
     "execution_count": 34,
     "metadata": {},
     "output_type": "execute_result"
    }
   ],
   "source": [
    "model.score(X_test, Y_test)"
   ]
  },
  {
   "cell_type": "markdown",
   "id": "b44f26c2-fed7-4cad-a50f-391dff52da5f",
   "metadata": {},
   "source": [
    "#### Score by taking all the features **except State** as it has the lowest corelation value "
   ]
  },
  {
   "cell_type": "code",
   "execution_count": 21,
   "id": "60745ab7-493e-4672-aa00-8ce21574fdc0",
   "metadata": {},
   "outputs": [
    {
     "data": {
      "text/plain": [
       "0.9750270545340758"
      ]
     },
     "execution_count": 21,
     "metadata": {},
     "output_type": "execute_result"
    }
   ],
   "source": [
    "model.score(X_test, Y_test)"
   ]
  },
  {
   "cell_type": "markdown",
   "id": "82853f8f-ea1a-40e7-8e96-813d25e8460e",
   "metadata": {},
   "source": [
    "Hence now we can conclude that multi linear regression model is way better model for linear regression.\n",
    "\n",
    "And our final MLR model has a **97.5% of accuracy score** which is way better than previous models as mentioned below."
   ]
  }
 ],
 "metadata": {
  "kernelspec": {
   "display_name": "Python 3",
   "language": "python",
   "name": "python3"
  },
  "language_info": {
   "codemirror_mode": {
    "name": "ipython",
    "version": 3
   },
   "file_extension": ".py",
   "mimetype": "text/x-python",
   "name": "python",
   "nbconvert_exporter": "python",
   "pygments_lexer": "ipython3",
   "version": "3.8.8"
  }
 },
 "nbformat": 4,
 "nbformat_minor": 5
}
